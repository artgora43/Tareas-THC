{
  "nbformat": 4,
  "nbformat_minor": 0,
  "metadata": {
    "colab": {
      "provenance": [],
      "include_colab_link": true
    },
    "kernelspec": {
      "name": "python3",
      "display_name": "Python 3"
    },
    "language_info": {
      "name": "python"
    }
  },
  "cells": [
    {
      "cell_type": "markdown",
      "metadata": {
        "id": "view-in-github",
        "colab_type": "text"
      },
      "source": [
        "<a href=\"https://colab.research.google.com/github/artgora43/Tareas-THC/blob/main/Tarea_4.ipynb\" target=\"_parent\"><img src=\"https://colab.research.google.com/assets/colab-badge.svg\" alt=\"Open In Colab\"/></a>"
      ]
    },
    {
      "cell_type": "markdown",
      "source": [
        "<font color=\"Red\" face=\"Comic Sans MS,arial\">\n",
        "  <h1 align=\"center\"><i>Tarea 4 de Python </i></h1>\n",
        "  </font>\n",
        "  \n",
        "> Elaborado por:\n",
        "\n",
        "> Miguel Ángel Carrillo Lucía. miguelcarrillo15@ciencias.unam.mx\n",
        "\n",
        "> Jesús Iván Coss Calderón. mat_ing_coss@ciencias.unam.mx"
      ],
      "metadata": {
        "id": "Acw5GbRohNTA"
      }
    },
    {
      "cell_type": "markdown",
      "source": [
        "**Objetivo general**\n",
        "\n",
        "* Demostrar los conocimientos adquiridos de bucles, listas y estructuras de control.\n",
        "\n",
        "**Objetivos particulares**\n",
        "\n",
        "* Aprender a resolver problemas prácticos usando python"
      ],
      "metadata": {
        "id": "-4IW6Nx2jBHt"
      }
    },
    {
      "cell_type": "markdown",
      "source": [
        "#**Ejercicio 1**:\n",
        "Diseña un programa que convierta dólares americanos a pesos mexicanos, euros, libras\n",
        "esterlinas, yuanes y rublos utilizando una tasa de cambio fija. Muestre la tasa de cambio e imprima los cinco resultados.\n"
      ],
      "metadata": {
        "id": "QZ7aCHF0TYtT"
      }
    },
    {
      "cell_type": "code",
      "source": [
        "#Conversión de divisas\n",
        "\n",
        "dolares = int(input(print(\"¿Cuántos dólares quiere cambiar?\"))) #Definición de variables y operaciones\n",
        "tasa_pesos = 19.84\n",
        "tasa_euros = 0.93\n",
        "tasa_libras = 0.77\n",
        "tasa_yuanes = 7.13\n",
        "tasa_rublos = 95.93\n",
        "pesos = dolares*tasa_pesos\n",
        "euros = dolares*tasa_euros\n",
        "libras = dolares*tasa_libras\n",
        "yuanes = dolares*tasa_yuanes\n",
        "rublos = dolares*tasa_rublos\n",
        "\n",
        "monedas = [pesos,euros,libras,yuanes,rublos] #Definición de una lista para aplicar el for\n",
        "\n",
        "for moneda in monedas:\n",
        "  if moneda==pesos:\n",
        "    print(\"Sus dólares son: \",moneda,\" pesos mexicanos. Tasa de cambio: 1 - \",tasa_pesos)\n",
        "  elif moneda==euros:\n",
        "    print(\"Sus dólares son: \",moneda,\" euros. Tasa de cambio: 1 - \",tasa_euros)\n",
        "  elif moneda==libras:\n",
        "    print(\"Sus dólares son: \",moneda,\" libras esterlinas. Tasa de cambio: 1 - \",tasa_libras)\n",
        "  elif moneda==yuanes:\n",
        "    print(\"Sus dólares son: \",moneda,\" yuanes. Tasa de cambio: 1 - \",tasa_yuanes)\n",
        "  else:\n",
        "    print(\"Sus dólares son: \",moneda,\" rublos. Tasa de cambio: 1 - \",tasa_rublos)"
      ],
      "metadata": {
        "id": "TBR-3raL8Epc",
        "colab": {
          "base_uri": "https://localhost:8080/"
        },
        "outputId": "dca19f2d-f9c7-4614-d628-a3fd724a47fc"
      },
      "execution_count": null,
      "outputs": [
        {
          "output_type": "stream",
          "name": "stdout",
          "text": [
            "¿Cuántos dólares quiere cambiar?\n",
            "None345\n",
            "Sus dólares son:  6844.8  pesos mexicanos. Tasa de cambio: 1 -  19.84\n",
            "Sus dólares son:  320.85  euros. Tasa de cambio: 1 -  0.93\n",
            "Sus dólares son:  265.65000000000003  libras esterlinas. Tasa de cambio: 1 -  0.77\n",
            "Sus dólares son:  2459.85  yuanes. Tasa de cambio: 1 -  7.13\n",
            "Sus dólares son:  33095.850000000006  rublos. Tasa de cambio: 1 -  95.93\n"
          ]
        }
      ]
    },
    {
      "cell_type": "markdown",
      "source": [
        "#**Ejercicio 2**:\n",
        "Escribe un programa que pida al usuario su edad y clasifique la entrada en 'niño',\n",
        " 'adolescente', 'adulto' o 'adulto mayor'."
      ],
      "metadata": {
        "id": "G-aCihICT7hi"
      }
    },
    {
      "cell_type": "code",
      "source": [
        "#Clasificación de edad\n",
        "\n",
        "edad = int(input(print(\"Introduzca su edad: \")))\n",
        "\n",
        "if edad<=12:\n",
        "  edad = 'niño'\n",
        "elif 12<edad<=18:\n",
        "  edad = 'adolescente'\n",
        "elif 18<edad<=59:\n",
        "  edad = 'adulto'\n",
        "elif 59<edad:\n",
        "  edad = 'adulto mayor'\n",
        "\n",
        "print(edad)"
      ],
      "metadata": {
        "id": "LeEsrq4p8FOs",
        "colab": {
          "base_uri": "https://localhost:8080/"
        },
        "outputId": "5a003d4a-717a-40ff-8da5-cbd7da8ea1cd"
      },
      "execution_count": null,
      "outputs": [
        {
          "output_type": "stream",
          "name": "stdout",
          "text": [
            "Introduzca su edad: \n",
            "None67\n",
            "adulto mayor\n"
          ]
        }
      ]
    },
    {
      "cell_type": "markdown",
      "source": [
        "#**Ejercicio 3**:\n",
        "Desarrolla un programa que calcule el precio final de un producto después de aplicar un descuento.\n",
        " El usuario debe ingresar el precio original y el porcentaje de descuento. Imprima el precio final."
      ],
      "metadata": {
        "id": "oM_h9APNTIW9"
      }
    },
    {
      "cell_type": "code",
      "source": [
        "#Cálculo de precio con descuento\n",
        "\n",
        "precio = input(print(\"Introduzca el precio de su artículo: \")) #Entrada de datos en str\n",
        "precio = float(precio)\n",
        "descuento = input(print(\"Introduzca el descuento que quiera aplicar (menor a 100%): \"))\n",
        "\n",
        "if len(descuento)==6: #Clasificación de str y redefinición a float\n",
        "  descuento = float(descuento[0:5])\n",
        "elif len(descuento)==5:\n",
        "  descuento = float(descuento[0:4])\n",
        "elif len(descuento)==3:\n",
        "  descuento = float(descuento[0:2])\n",
        "elif len(descuento)==2:\n",
        "  descuento = float(descuento[0:1])\n",
        "else:\n",
        "  print(\"Introduzca un descuento apropiado.\")\n",
        "\n",
        "descuento = precio*(descuento/100) #Cálculo del descuento y aplicación del mismo\n",
        "precio_nuevo = precio-descuento\n",
        "print(\"Su precio con descuento es de \",precio_nuevo,\" pesos.\")"
      ],
      "metadata": {
        "id": "ay0KWLXf8F5k",
        "colab": {
          "base_uri": "https://localhost:8080/"
        },
        "outputId": "45102bb1-e7f3-4e76-91a8-f067f2dcc654"
      },
      "execution_count": null,
      "outputs": [
        {
          "output_type": "stream",
          "name": "stdout",
          "text": [
            "Introduzca el precio de su artículo: \n",
            "None523\n",
            "Introduzca el descuento que quiera aplicar (menor a 100%): \n",
            "None23.33%\n",
            "Su precio con descuento es de  400.9841  pesos.\n"
          ]
        }
      ]
    },
    {
      "cell_type": "markdown",
      "source": [
        "#**Ejercicio 4**:\n",
        "Crea un script que determine cuál de tres números introducidos por el usuario es el mayor,\n",
        "usando sentencias IF anidadas o múltiples ELIF."
      ],
      "metadata": {
        "id": "pXTw_US7UIhy"
      }
    },
    {
      "cell_type": "code",
      "source": [
        "n_1 = float(input(print(\"Introduzca un número: \")))\n",
        "n_2 = float(input(print(\"Introduzca otro número: \")))\n",
        "if n_1 >= n_2:\n",
        "  n_3 = float(input(print(\"Introduzca un último número: \")))\n",
        "  if n_3 > n_1:\n",
        "    print(n_3, \" es el número más grande.\")\n",
        "  elif n_3 < n_1:\n",
        "    print(n_1, \" es el número más grande.\")\n",
        "  else:\n",
        "    print(\"Son el mismo número.\")\n",
        "if n_2 > n_1:\n",
        "  n_3 = float(input(print(\"Introduzca el último número: \")))\n",
        "  if n_3 > n_2:\n",
        "    print(n_3, \" es el número más grande.\")\n",
        "  elif n_3 < n_2:\n",
        "    print(n_2, \" es el número más grande.\")\n",
        "  else:\n",
        "    print(\"Son el mismo número.\")"
      ],
      "metadata": {
        "id": "oSJXRXBb8Gck",
        "colab": {
          "base_uri": "https://localhost:8080/"
        },
        "outputId": "da788820-ed52-46b9-a953-1a46fd7c9192"
      },
      "execution_count": null,
      "outputs": [
        {
          "output_type": "stream",
          "name": "stdout",
          "text": [
            "Introduzca un número: \n",
            "None1\n",
            "Introduzca otro número: \n",
            "None2\n",
            "Introduzca el último número: \n",
            "None3\n",
            "3.0  es el número más grande.\n"
          ]
        }
      ]
    },
    {
      "cell_type": "markdown",
      "source": [
        "#**Ejercicio 5**:\n",
        "Programe una función que resuelva ecuaciones de segundo grado utilizando la fórmula general.\n",
        "El usuario debe ingresar los valores de a, b y c. Genere valores por default por si el usuario no ingresa\n",
        "un número entero o flotante. Además, calcule el valor del discriminante\n",
        "(b^2 - 4ac) y determine si tiene soluciones reales, soluciones complejas. Imprima el resultado."
      ],
      "metadata": {
        "id": "LJgQNYz1Tmaj"
      }
    },
    {
      "cell_type": "code",
      "source": [
        "import cmath\n",
        "\n",
        "def chicharronera(a=1, b=2, c=3):\n",
        "  discriminante = b**2 - 4*a*c\n",
        "  print(f\"Discriminante: {discriminante}\")\n",
        "\n",
        "  if discriminante > 0:\n",
        "    print(\"La ecuación tiene soluciones reales.\")\n",
        "    x_1 = (-b + cmath.sqrt(discriminante)) / (2 * a)\n",
        "    x_2 = (-b - cmath.sqrt(discriminante)) / (2 * a)\n",
        "  elif discriminante == 0:\n",
        "    print(\"La ecuación tiene una solución real.\")\n",
        "    x_1 = x_2 = -b / (2 * a)\n",
        "  else:\n",
        "    print(\"La ecuación tiene soluciones complejas.\")\n",
        "    x_1 = (-b + (cmath.sqrt(discriminante))) / (2 * a)\n",
        "    x_2 = (-b - (cmath.sqrt(discriminante))) / (2 * a)\n",
        "\n",
        "  print(f\"Solución 1: {x_1}\")\n",
        "  print(f\"Solución 2: {x_2}\")\n",
        "\n",
        "a = float(input(\"Introduzca el valor de a: \"))\n",
        "b = float(input(\"Introduzca el valor de b: \"))\n",
        "c = float(input(\"Introduzca el valor de c: \"))\n",
        "\n",
        "chicharronera(a, b, c)"
      ],
      "metadata": {
        "colab": {
          "base_uri": "https://localhost:8080/"
        },
        "id": "rSP7KPGKuGIM",
        "outputId": "342d257e-57cf-4ad3-99a9-0952a5830098"
      },
      "execution_count": null,
      "outputs": [
        {
          "output_type": "stream",
          "name": "stdout",
          "text": [
            "Introduzca el valor de a: 5\n",
            "Introduzca el valor de b: 10\n",
            "Introduzca el valor de c: 5\n",
            "Discriminante: 0.0\n",
            "La ecuación tiene una solución real.\n",
            "Solución 1: -1.0\n",
            "Solución 2: -1.0\n"
          ]
        }
      ]
    },
    {
      "cell_type": "markdown",
      "source": [
        "#**Ejercicio 6**\n",
        "\n",
        " Escriba una función que reciba una lista de números y devuelva dos listas: una con los números positivos y otra con los negativos."
      ],
      "metadata": {
        "id": "1VC6sG1wix_2"
      }
    },
    {
      "cell_type": "code",
      "source": [
        "def lista_2(num):\n",
        "  positivos = [n for n in num if n>0]\n",
        "  negativos = [n for n in num if n<0]\n",
        "  return positivos, negativos\n",
        "\n",
        "lista_1 = [1,-3,5,-6,3,-7,8,-9,10,-12]\n",
        "positivos, negativos = lista_2(lista_1)\n",
        "\n",
        "print(\"Números positivos: \", positivos)\n",
        "print(\"Números negativos: \", negativos)"
      ],
      "metadata": {
        "id": "j-nKpLKG8HdU",
        "colab": {
          "base_uri": "https://localhost:8080/"
        },
        "outputId": "9ad20f00-93a6-471b-ddeb-b067115b1b89"
      },
      "execution_count": null,
      "outputs": [
        {
          "output_type": "stream",
          "name": "stdout",
          "text": [
            "Números positivos:  [1, 5, 3, 8, 10]\n",
            "Números negativos:  [-3, -6, -7, -9, -12]\n"
          ]
        }
      ]
    },
    {
      "cell_type": "markdown",
      "source": [
        "#**Ejercicio 7**\n",
        "\n",
        "Escriba una función que reciba una lista de datos (la de abajo) y devuelva listas con los datos filtrados. Este programa debe separar los datos en **int**, **str**, **bool**, **float**. **Hint**: use la función **append** para insertar datos en las listas."
      ],
      "metadata": {
        "id": "B3DOqZgpjxMf"
      }
    },
    {
      "cell_type": "code",
      "source": [
        "Datos= [5, 2.4, \"hola\", 7, 10, 3.14,True,False, \"Hi\", 0, 0.265]# lista a usar"
      ],
      "metadata": {
        "id": "5zQMRLNYis12"
      },
      "execution_count": null,
      "outputs": []
    },
    {
      "cell_type": "code",
      "source": [
        "Datos= [5, 2.4, \"hola\", 7, 10, 3.14,True,False, \"Hi\", 0, 0.265]\n",
        "\n",
        "ints = []\n",
        "floats = []\n",
        "strings = []\n",
        "booleanos = []\n",
        "\n",
        "n = len(Datos)\n",
        "for i in range(n):\n",
        "  if type(Datos[i]) == int:\n",
        "    ints.append(Datos[i])\n",
        "  elif type(Datos[i]) == float:\n",
        "    floats.append(Datos[i])\n",
        "  elif type(Datos[i]) == str:\n",
        "    strings.append(Datos[i])\n",
        "  elif type(Datos[i]) == bool:\n",
        "    booleanos.append(Datos[i])\n",
        "\n",
        "print(ints,floats,strings,booleanos)"
      ],
      "metadata": {
        "id": "0HH0Debs8Joc",
        "colab": {
          "base_uri": "https://localhost:8080/"
        },
        "outputId": "a14d9f70-f594-4086-da10-8cc3ce8969fc"
      },
      "execution_count": null,
      "outputs": [
        {
          "output_type": "stream",
          "name": "stdout",
          "text": [
            "[5, 7, 10, 0] [2.4, 3.14, 0.265] ['hola', 'Hi'] [True, False]\n"
          ]
        }
      ]
    },
    {
      "cell_type": "markdown",
      "source": [
        "#**Ejercicio 8**:\n",
        "\n",
        "Imprimir pirámide de asteriscos\n",
        "Descripción: Crea una función que imprima una pirámide de asteriscos usando bucles anidados, donde el número de niveles de la pirámide sea un valor dado."
      ],
      "metadata": {
        "id": "Q7XYGpfGkuD4"
      }
    },
    {
      "cell_type": "code",
      "source": [
        "def piramide_asteriscos(niveles):\n",
        "  for i in range(1, niveles + 1):\n",
        "    print(\"*\" * i)\n",
        "\n",
        "piramide_asteriscos(5)\n"
      ],
      "metadata": {
        "colab": {
          "base_uri": "https://localhost:8080/"
        },
        "id": "lKlZ67KRkXwn",
        "outputId": "131e7f9f-e6b9-49bc-af1a-5507f7168919"
      },
      "execution_count": null,
      "outputs": [
        {
          "output_type": "stream",
          "name": "stdout",
          "text": [
            "*\n",
            "**\n",
            "***\n",
            "****\n",
            "*****\n"
          ]
        }
      ]
    },
    {
      "cell_type": "markdown",
      "source": [
        "#**Ejercicio 9**:\n",
        "\n",
        "Escriba una función que calcule el factorial de un número, el cual debe ser ingresado por el usuario, después usted debe validar que sea un número natural mayor o igual a cero y en caso de que ingrese un número negativo, una letra o cadena, debe pedir nuevamente el número al usuario."
      ],
      "metadata": {
        "id": "xL6YMsdClOy9"
      }
    },
    {
      "cell_type": "code",
      "source": [
        "def factorial_():\n",
        "  while True:\n",
        "    num = input(\"Introduzca un número natural mayor que el cero: \")\n",
        "    if num.isdigit():\n",
        "      num = int(num)\n",
        "      break\n",
        "    else:\n",
        "      print(\"Por favor introduzca un número adecuado. \")\n",
        "\n",
        "  factorial = 1\n",
        "  for i in range(1, num+1):\n",
        "    factorial *= i\n",
        "  print(f\"El factorial de {num} es: {factorial}\")\n",
        "\n",
        "factorial_()"
      ],
      "metadata": {
        "id": "JYhyNp21l43j",
        "colab": {
          "base_uri": "https://localhost:8080/"
        },
        "outputId": "d35296ce-ff65-49ae-f054-7aac426aede5"
      },
      "execution_count": null,
      "outputs": [
        {
          "output_type": "stream",
          "name": "stdout",
          "text": [
            "Introduzca un número natural mayor que el cero: a\n",
            "Por favor introduzca un número adecuado. \n",
            "Introduzca un número natural mayor que el cero: -5\n",
            "Por favor introduzca un número adecuado. \n",
            "Introduzca un número natural mayor que el cero: 5\n",
            "El factorial de 5 es: 120\n"
          ]
        }
      ]
    },
    {
      "cell_type": "markdown",
      "source": [
        "#**Ejercicio 10**:\n",
        "Programar una función que calcule la distancia entre dos puntos en el plano cartesiano,\n",
        "dadas sus coordenadas (x1, y1) y (x2, y2)."
      ],
      "metadata": {
        "id": "8z6e_aduTxWh"
      }
    },
    {
      "cell_type": "code",
      "source": [
        "import math\n",
        "\n",
        "def distancia_(x_1, y_1, x_2, y_2): #\n",
        "  distancia = math.sqrt((x_2 - x_1) ** 2 + (y_2 - y_1) ** 2)\n",
        "  return distancia\n",
        "\n",
        "x_1 = 4\n",
        "y_1 = 7\n",
        "x_2 = 5\n",
        "y_2 = 3\n",
        "\n",
        "print(\"La distancia entre los puntos en el plano cartesiano es:\", distancia_(x_1, y_1, x_2, y_2),\" unidades.\")"
      ],
      "metadata": {
        "id": "rKes7ySm8LJy",
        "colab": {
          "base_uri": "https://localhost:8080/"
        },
        "outputId": "9c8701f8-8fe0-4726-a09b-6f975408146c"
      },
      "execution_count": null,
      "outputs": [
        {
          "output_type": "stream",
          "name": "stdout",
          "text": [
            "La distancia entre los puntos en el plano cartesiano es: 4.123105625617661  unidades.\n"
          ]
        }
      ]
    },
    {
      "cell_type": "markdown",
      "source": [
        "#**Ejercicio 11**:\n",
        "Programe un script que determine si dos rectas dadas por las ecuaciones y1=m1x + b1 y y2=m2x+b2 se\n",
        "intersectan, son paralelas o coincidentes. Utilice estructuras de control (IF - ELSE)\n",
        "para manejar los diferentes casos.\n"
      ],
      "metadata": {
        "id": "YZ1CmeGNUfd6"
      }
    },
    {
      "cell_type": "code",
      "source": [
        "def rectas(m1, b1, m2, b2):\n",
        "  if m1 == m2: #Se revisa cada caso, pero es conveniente que cuando la pendiente es la misma, el paralelismo esté anidado\n",
        "    if b1 == b2:\n",
        "      print(\"Las rectas son la misma.\")\n",
        "    else:\n",
        "      print(\"Las rectas son paralelas.\")\n",
        "  else:\n",
        "    print(\"Las rectas se intersectan.\")\n",
        "\n",
        "m1 = 3\n",
        "b1 = 5\n",
        "m2 = 4\n",
        "b2 = 7\n",
        "\n",
        "rectas(m1, b1, m2, b2)"
      ],
      "metadata": {
        "id": "oTNVz98W8LuZ",
        "colab": {
          "base_uri": "https://localhost:8080/"
        },
        "outputId": "f389f36f-4070-4bf5-e219-96f130ec278b"
      },
      "execution_count": null,
      "outputs": [
        {
          "output_type": "stream",
          "name": "stdout",
          "text": [
            "Las rectas se intersectan.\n"
          ]
        }
      ]
    },
    {
      "cell_type": "markdown",
      "source": [
        "#**Ejercicio 12**:\n",
        "Iván y Miguel quieren jugar a los dados con las siguientes reglas:\n",
        "\n",
        "    Si sale 1, vuelven a lanzar.\n",
        "    Si sale 6, quedan empatados.\n",
        "    Si sale 2 ó 3 gana Iván.\n",
        "    Si sale 4 ó 5 gana Miguel.\n",
        "\n",
        "Haga un programa que le permita jugar a Iván y Miguel utilizando el condicional while. Se debe imprimir el mensaje de acuerdo a las reglas establecidas.\n",
        "**Hint** = Utilice la librería random para generar los números aleatorios."
      ],
      "metadata": {
        "id": "qdHirPx6I2ib"
      }
    },
    {
      "cell_type": "code",
      "source": [
        "import random\n",
        "\n",
        "def lanzamiento():\n",
        "  while True:\n",
        "    dado = random.randint(1, 6) #Crea un número aleatorio del 1 al 6\n",
        "    print(f\"Resultado del dado: {dado}\")\n",
        "    if dado == 1:\n",
        "      print(\"Salió 1, se vuelve a lanzar el dado.\")\n",
        "      continue  # Se repite el lanzamiento.\n",
        "    elif dado == 6:\n",
        "      print(\"Salió 6, Iván y Miguel quedan empatados.\")\n",
        "      break\n",
        "    elif dado == 2 or dado == 3:\n",
        "      print(\"Ganó Iván.\")\n",
        "      break\n",
        "    elif dado == 4 or dado == 5:\n",
        "      print(\"Ganó Miguel.\")\n",
        "      break\n",
        "\n",
        "lanzamiento()"
      ],
      "metadata": {
        "id": "dDHP_-CG8Nqg",
        "colab": {
          "base_uri": "https://localhost:8080/"
        },
        "outputId": "2bcf8fd4-8a3e-4440-978b-ce8578af7bf5"
      },
      "execution_count": null,
      "outputs": [
        {
          "output_type": "stream",
          "name": "stdout",
          "text": [
            "Resultado del dado: 6\n",
            "Salió 6, Iván y Miguel quedan empatados.\n"
          ]
        }
      ]
    }
  ]
}