{
  "nbformat": 4,
  "nbformat_minor": 0,
  "metadata": {
    "colab": {
      "provenance": [],
      "authorship_tag": "ABX9TyMKYr235H+XHzncIfzHzX8Q",
      "include_colab_link": true
    },
    "kernelspec": {
      "name": "python3",
      "display_name": "Python 3"
    },
    "language_info": {
      "name": "python"
    }
  },
  "cells": [
    {
      "cell_type": "markdown",
      "metadata": {
        "id": "view-in-github",
        "colab_type": "text"
      },
      "source": [
        "<a href=\"https://colab.research.google.com/github/artgora43/Tareas-THC/blob/main/Trabajo_de_clase_29_10_2024_.ipynb\" target=\"_parent\"><img src=\"https://colab.research.google.com/assets/colab-badge.svg\" alt=\"Open In Colab\"/></a>"
      ]
    },
    {
      "cell_type": "code",
      "execution_count": null,
      "metadata": {
        "colab": {
          "base_uri": "https://localhost:8080/"
        },
        "id": "Oox-mSnTgTUU",
        "outputId": "2c974350-27d4-4362-97e9-995811afedb5"
      },
      "outputs": [
        {
          "output_type": "stream",
          "name": "stdout",
          "text": [
            "<class 'numpy.ndarray'>\n",
            "[1 2 3]\n"
          ]
        }
      ],
      "source": [
        "import numpy as np\n",
        "\n",
        "a=np.array([1,2,3]) #Esto es un arreglo\n",
        "print(type(a))\n",
        "print(a)"
      ]
    },
    {
      "cell_type": "code",
      "source": [
        "dim_cero=np.array(1) #arreglo de dimensión cero\n",
        "print(dim_cero) #escalar"
      ],
      "metadata": {
        "colab": {
          "base_uri": "https://localhost:8080/"
        },
        "id": "Gm40XnXHhC83",
        "outputId": "3a000703-979d-44ef-9788-b035b79f2c3a"
      },
      "execution_count": null,
      "outputs": [
        {
          "output_type": "stream",
          "name": "stdout",
          "text": [
            "1\n"
          ]
        }
      ]
    },
    {
      "cell_type": "code",
      "source": [
        "dim_uno=np.array([2,1]) #arreglo de dimensión uno\n",
        "print(dim_uno) #vector"
      ],
      "metadata": {
        "colab": {
          "base_uri": "https://localhost:8080/"
        },
        "id": "kaHfCI4Phuln",
        "outputId": "3392ad1e-5564-40ca-bc40-83c77b0450fb"
      },
      "execution_count": null,
      "outputs": [
        {
          "output_type": "stream",
          "name": "stdout",
          "text": [
            "[2 1]\n"
          ]
        }
      ]
    },
    {
      "cell_type": "code",
      "source": [
        "dim_dos=np.array([[1,2],[3,4]]) #arreglo de dimensión dos, los arreglos se caracterizan por el número de corchetes que contienen\n",
        "print(dim_dos) #matriz"
      ],
      "metadata": {
        "colab": {
          "base_uri": "https://localhost:8080/"
        },
        "id": "m6y0fPwah_33",
        "outputId": "4c1df68d-7317-4549-9d97-07aea80ffc6d"
      },
      "execution_count": null,
      "outputs": [
        {
          "output_type": "stream",
          "name": "stdout",
          "text": [
            "[[1 2]\n",
            " [3 4]]\n"
          ]
        }
      ]
    },
    {
      "cell_type": "code",
      "source": [
        "print(dim_uno.ndim) #imprime la dimensión\n",
        "print(dim_uno.shape) #imprime la cantidad de elementos\n",
        "print(dim_dos.shape) #imprime filas y columnas"
      ],
      "metadata": {
        "colab": {
          "base_uri": "https://localhost:8080/"
        },
        "id": "KOpToNkGigUH",
        "outputId": "e4606a7e-81cd-4bbe-a382-0e06ab6e7cc9"
      },
      "execution_count": null,
      "outputs": [
        {
          "output_type": "stream",
          "name": "stdout",
          "text": [
            "1\n",
            "(2,)\n",
            "(2, 2)\n"
          ]
        }
      ]
    },
    {
      "cell_type": "code",
      "source": [
        "import numpy as np\n",
        "A=np.array([[1,'o'],[0,0]]) #solo puede haber un tipo de dato en los arreglos\n",
        "print(A)"
      ],
      "metadata": {
        "colab": {
          "base_uri": "https://localhost:8080/"
        },
        "id": "hzr9NRtpjTEv",
        "outputId": "bc4e4b94-7fb8-417d-f0bd-a5e6ffe95838"
      },
      "execution_count": null,
      "outputs": [
        {
          "output_type": "stream",
          "name": "stdout",
          "text": [
            "[['1' 'o']\n",
            " ['0' '0']]\n"
          ]
        }
      ]
    },
    {
      "cell_type": "code",
      "source": [
        "vec=np.array([2,0,-1,4,5])\n",
        "print(vec[0]) #para acceder a los elementos del arreglo es similar con las listas\n",
        "print(vec[3])"
      ],
      "metadata": {
        "colab": {
          "base_uri": "https://localhost:8080/"
        },
        "id": "xLSt4AkYkTqH",
        "outputId": "84080511-cac3-4e89-f852-b6e844f0a333"
      },
      "execution_count": null,
      "outputs": [
        {
          "output_type": "stream",
          "name": "stdout",
          "text": [
            "2\n",
            "4\n"
          ]
        }
      ]
    },
    {
      "cell_type": "code",
      "source": [
        "print(vec[1:3]) #para el slicing se debe anotar un número anterior al primero y posterior al último\n",
        "print(vec[1:4])\n",
        "print(vec[2:5])\n",
        "n=len(vec)\n",
        "print(n)"
      ],
      "metadata": {
        "colab": {
          "base_uri": "https://localhost:8080/"
        },
        "id": "vtubOvKkk82n",
        "outputId": "e17a12e5-cc91-4576-930b-eb31895c1380"
      },
      "execution_count": null,
      "outputs": [
        {
          "output_type": "stream",
          "name": "stdout",
          "text": [
            "[ 0 -1]\n",
            "[ 0 -1  4]\n",
            "[-1  4  5]\n",
            "5\n"
          ]
        }
      ]
    },
    {
      "cell_type": "code",
      "source": [
        "vec=np.array([2,0,-1,4,5,6,7,8,9,10])\n",
        "print(vec[1:10:2]) #en orden, donde empiezo, hasta donde llego, de cuanto en cuanto\n",
        "print(vec[1:10:5])"
      ],
      "metadata": {
        "colab": {
          "base_uri": "https://localhost:8080/"
        },
        "id": "7vP0fY-sncP3",
        "outputId": "434490f1-44da-486f-f285-2bf552288ee4"
      },
      "execution_count": null,
      "outputs": [
        {
          "output_type": "stream",
          "name": "stdout",
          "text": [
            "[ 0  4  6  8 10]\n",
            "[0 7]\n"
          ]
        }
      ]
    },
    {
      "cell_type": "code",
      "source": [
        "Mat=np.array([[1,2,3,4],[5,6,7,8],[9,10,11,12]]) #Las listas están indexadas, en orden, 0,1,2\n",
        "print(Mat[0,0]) #En orden, el índice de la lista, índice del elemento\n",
        "print(Mat[2,2])\n",
        "print(Mat[1,-1]) #el último elemento en la lista se puede tomar con -1\n",
        "print(Mat[-1,-1]) #tambíen el índice de la lista\n",
        "#print(Math[1,4]): error de sintáxis"
      ],
      "metadata": {
        "colab": {
          "base_uri": "https://localhost:8080/"
        },
        "id": "_Ihbi2ySospH",
        "outputId": "829b0bb2-d4ee-42b7-a2d0-eeaba66fc96b"
      },
      "execution_count": null,
      "outputs": [
        {
          "output_type": "stream",
          "name": "stdout",
          "text": [
            "1\n",
            "11\n",
            "8\n",
            "12\n"
          ]
        }
      ]
    },
    {
      "cell_type": "code",
      "source": [
        "print(Mat[:,1]) #imprime el elemento uno de cada lista, selecciona la columna 1 (de la matriz creada por el arreglo)\n",
        "print(Mat[1,:]) #selecciona la fila 1 de la matriz\n",
        "print(Mat[1,1:4]) #Doble barrido\n",
        "print(Mat[1:3,2]) #imprime elementos de la columna\n",
        "print(Mat[1:3,1:4]) #en orden, controla filas, controla columnas\n",
        "print(Mat[0:2,0:3])"
      ],
      "metadata": {
        "colab": {
          "base_uri": "https://localhost:8080/"
        },
        "id": "lQxSYkz8qTgW",
        "outputId": "fc2b68eb-15d1-4218-e9bf-8aad37ddd599"
      },
      "execution_count": null,
      "outputs": [
        {
          "output_type": "stream",
          "name": "stdout",
          "text": [
            "[ 2  6 10]\n",
            "[5 6 7 8]\n",
            "[6 7 8]\n",
            "[ 7 11]\n",
            "[[ 6  7  8]\n",
            " [10 11 12]]\n",
            "[[1 2 3]\n",
            " [5 6 7]]\n"
          ]
        }
      ]
    },
    {
      "cell_type": "code",
      "source": [
        "a=np.array([1,2,3,4])\n",
        "b=np.array([4,5,6,7])\n",
        "print(a+b)\n",
        "n=len(a)\n",
        "for i in range(n):\n",
        "  producto=a[i]*b[i]+producto\n",
        "  print(producto)\n"
      ],
      "metadata": {
        "colab": {
          "base_uri": "https://localhost:8080/"
        },
        "id": "_YbxaLXMtS_O",
        "outputId": "be156f56-1ae1-43f9-b73f-0d6aa5d4bbb3"
      },
      "execution_count": 53,
      "outputs": [
        {
          "output_type": "stream",
          "name": "stdout",
          "text": [
            "[ 5  7  9 11]\n",
            "452\n",
            "462\n",
            "480\n",
            "508\n"
          ]
        }
      ]
    },
    {
      "cell_type": "code",
      "source": [
        "Mat=np.array([[1,2,3,4],[5,6,7,8],[9,10,11,12]])\n",
        "print(Mat+Mat)"
      ],
      "metadata": {
        "colab": {
          "base_uri": "https://localhost:8080/"
        },
        "id": "TxsZH53Ut_da",
        "outputId": "6adc692a-1b85-40e3-fc91-b550ee503013"
      },
      "execution_count": null,
      "outputs": [
        {
          "output_type": "stream",
          "name": "stdout",
          "text": [
            "[[ 2  4  6  8]\n",
            " [10 12 14 16]\n",
            " [18 20 22 24]]\n"
          ]
        }
      ]
    },
    {
      "cell_type": "code",
      "source": [],
      "metadata": {
        "colab": {
          "base_uri": "https://localhost:8080/"
        },
        "id": "yE9p-KS4umoX",
        "outputId": "c4018cba-695c-4115-f30d-8a271bc08a7a"
      },
      "execution_count": null,
      "outputs": [
        {
          "output_type": "stream",
          "name": "stdout",
          "text": [
            "[ 4 10 18 28]\n"
          ]
        }
      ]
    }
  ]
}